{
 "cells": [
  {
   "cell_type": "code",
   "execution_count": 1,
   "metadata": {},
   "outputs": [],
   "source": [
    "import data_fetcher\n",
    "import json\n",
    "import sys"
   ]
  },
  {
   "cell_type": "code",
   "execution_count": 2,
   "metadata": {},
   "outputs": [
    {
     "name": "stdout",
     "output_type": "stream",
     "text": [
      "[{'Zentrum_Id': 101, 'Land': 'D', 'Ort': 'Dortmund', 'Pruefer': 'Meyer', 'Monitor': 'Wittmann'}, {'Zentrum_Id': 102, 'Land': 'D', 'Ort': 'Essen', 'Pruefer': 'Müller', 'Monitor': 'Bruch'}, {'Zentrum_Id': 103, 'Land': 'D', 'Ort': 'München', 'Pruefer': 'Moser', 'Monitor': 'Wittmann'}, {'Zentrum_Id': 104, 'Land': 'D', 'Ort': 'Herne', 'Pruefer': 'Kwiatkowski', 'Monitor': 'Wittmann'}, {'Zentrum_Id': 105, 'Land': 'D', 'Ort': 'Hannover', 'Pruefer': 'Meyer', 'Monitor': 'Lange'}, {'Zentrum_Id': 106, 'Land': 'D', 'Ort': 'Köln', 'Pruefer': 'Brettschneider', 'Monitor': 'Bruch'}, {'Zentrum_Id': 107, 'Land': 'D', 'Ort': 'Bremen', 'Pruefer': 'Van Gool', 'Monitor': 'Lange'}, {'Zentrum_Id': 108, 'Land': 'D', 'Ort': 'Hamburg', 'Pruefer': 'Talmann-Berg', 'Monitor': 'Lange'}, {'Zentrum_Id': 109, 'Land': 'D', 'Ort': 'Stuttgart', 'Pruefer': 'Fischer', 'Monitor': 'Bruch'}, {'Zentrum_Id': 110, 'Land': 'D', 'Ort': 'Lepzig', 'Pruefer': 'Obermeier', 'Monitor': 'Bruch'}, {'Zentrum_Id': 201, 'Land': 'GB', 'Ort': 'London', 'Pruefer': 'McDonald', 'Monitor': 'Gordon'}, {'Zentrum_Id': 202, 'Land': 'GB', 'Ort': 'London', 'Pruefer': 'Priest', 'Monitor': 'Thatcher'}, {'Zentrum_Id': 203, 'Land': 'GB', 'Ort': 'Manchester', 'Pruefer': 'Down', 'Monitor': 'Gordon'}, {'Zentrum_Id': 204, 'Land': 'GB', 'Ort': 'Brighton', 'Pruefer': 'Feldham', 'Monitor': 'Gordon'}, {'Zentrum_Id': 205, 'Land': 'GB', 'Ort': 'Leeds', 'Pruefer': 'Harnister', 'Monitor': 'Thatcher'}]\n"
     ]
    }
   ],
   "source": [
    "fetcher = data_fetcher.MamphiDataFetcher('../../app/mamphi.db')\n",
    "center = json.loads(fetcher.fetch_center())\n",
    "print(center)"
   ]
  },
  {
   "cell_type": "code",
   "execution_count": 3,
   "metadata": {},
   "outputs": [
    {
     "data": {
      "text/plain": [
       "['',\n",
       " 'C:\\\\Users\\\\biocl\\\\Desktop\\\\Beauclair\\\\USB DISK\\\\Master\\\\FH_DO\\\\PyDev\\\\MamphiAdministration\\\\app\\\\fetcher',\n",
       " 'C:\\\\Users\\\\biocl\\\\Desktop\\\\Beauclair\\\\USB DISK\\\\Master\\\\FH_DO\\\\PyDev\\\\MamphiAdministration\\\\mamphi-admin\\\\admin',\n",
       " 'C:\\\\Users\\\\biocl\\\\Anaconda3\\\\envs\\\\ai\\\\python36.zip',\n",
       " 'C:\\\\Users\\\\biocl\\\\Anaconda3\\\\envs\\\\ai\\\\DLLs',\n",
       " 'C:\\\\Users\\\\biocl\\\\Anaconda3\\\\envs\\\\ai\\\\lib',\n",
       " 'C:\\\\Users\\\\biocl\\\\Anaconda3\\\\envs\\\\ai',\n",
       " 'C:\\\\Users\\\\biocl\\\\AppData\\\\Roaming\\\\Python\\\\Python36\\\\site-packages',\n",
       " 'C:\\\\Users\\\\biocl\\\\Anaconda3\\\\envs\\\\ai\\\\lib\\\\site-packages',\n",
       " 'C:\\\\Users\\\\biocl\\\\Anaconda3\\\\envs\\\\ai\\\\lib\\\\site-packages\\\\cycler-0.10.0-py3.6.egg',\n",
       " 'C:\\\\Users\\\\biocl\\\\Anaconda3\\\\envs\\\\ai\\\\lib\\\\site-packages\\\\IPython\\\\extensions',\n",
       " 'C:\\\\Users\\\\biocl\\\\.ipython']"
      ]
     },
     "execution_count": 3,
     "metadata": {},
     "output_type": "execute_result"
    }
   ],
   "source": [
    "sys.path"
   ]
  },
  {
   "cell_type": "code",
   "execution_count": 4,
   "metadata": {},
   "outputs": [
    {
     "name": "stdout",
     "output_type": "stream",
     "text": [
      "{'Zentrum_Id': 101, 'Land': 'D', 'Ort': 'Dortmund', 'Pruefer': 'Meyer', 'Monitor': 'Wittmann'}\n",
      "{'Zentrum_Id': 102, 'Land': 'D', 'Ort': 'Essen', 'Pruefer': 'Müller', 'Monitor': 'Bruch'}\n",
      "{'Zentrum_Id': 103, 'Land': 'D', 'Ort': 'München', 'Pruefer': 'Moser', 'Monitor': 'Wittmann'}\n",
      "{'Zentrum_Id': 104, 'Land': 'D', 'Ort': 'Herne', 'Pruefer': 'Kwiatkowski', 'Monitor': 'Wittmann'}\n",
      "{'Zentrum_Id': 105, 'Land': 'D', 'Ort': 'Hannover', 'Pruefer': 'Meyer', 'Monitor': 'Lange'}\n",
      "{'Zentrum_Id': 106, 'Land': 'D', 'Ort': 'Köln', 'Pruefer': 'Brettschneider', 'Monitor': 'Bruch'}\n",
      "{'Zentrum_Id': 107, 'Land': 'D', 'Ort': 'Bremen', 'Pruefer': 'Van Gool', 'Monitor': 'Lange'}\n",
      "{'Zentrum_Id': 108, 'Land': 'D', 'Ort': 'Hamburg', 'Pruefer': 'Talmann-Berg', 'Monitor': 'Lange'}\n",
      "{'Zentrum_Id': 109, 'Land': 'D', 'Ort': 'Stuttgart', 'Pruefer': 'Fischer', 'Monitor': 'Bruch'}\n",
      "{'Zentrum_Id': 110, 'Land': 'D', 'Ort': 'Lepzig', 'Pruefer': 'Obermeier', 'Monitor': 'Bruch'}\n",
      "{'Zentrum_Id': 201, 'Land': 'GB', 'Ort': 'London', 'Pruefer': 'McDonald', 'Monitor': 'Gordon'}\n",
      "{'Zentrum_Id': 202, 'Land': 'GB', 'Ort': 'London', 'Pruefer': 'Priest', 'Monitor': 'Thatcher'}\n",
      "{'Zentrum_Id': 203, 'Land': 'GB', 'Ort': 'Manchester', 'Pruefer': 'Down', 'Monitor': 'Gordon'}\n",
      "{'Zentrum_Id': 204, 'Land': 'GB', 'Ort': 'Brighton', 'Pruefer': 'Feldham', 'Monitor': 'Gordon'}\n",
      "{'Zentrum_Id': 205, 'Land': 'GB', 'Ort': 'Leeds', 'Pruefer': 'Harnister', 'Monitor': 'Thatcher'}\n"
     ]
    }
   ],
   "source": [
    "for el in center:\n",
    "    print(el)"
   ]
  },
  {
   "cell_type": "code",
   "execution_count": 5,
   "metadata": {},
   "outputs": [
    {
     "data": {
      "text/plain": [
       "dict_keys(['Zentrum_Id', 'Land', 'Ort', 'Pruefer', 'Monitor'])"
      ]
     },
     "execution_count": 5,
     "metadata": {},
     "output_type": "execute_result"
    }
   ],
   "source": [
    "el.keys()"
   ]
  },
  {
   "cell_type": "code",
   "execution_count": null,
   "metadata": {},
   "outputs": [],
   "source": []
  }
 ],
 "metadata": {
  "kernelspec": {
   "display_name": "Python 3",
   "language": "python",
   "name": "python3"
  },
  "language_info": {
   "codemirror_mode": {
    "name": "ipython",
    "version": 3
   },
   "file_extension": ".py",
   "mimetype": "text/x-python",
   "name": "python",
   "nbconvert_exporter": "python",
   "pygments_lexer": "ipython3",
   "version": "3.6.5"
  }
 },
 "nbformat": 4,
 "nbformat_minor": 2
}
