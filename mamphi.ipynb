{
 "cells": [
  {
   "cell_type": "code",
   "execution_count": 1,
   "metadata": {},
   "outputs": [],
   "source": [
    "import sys\n",
    "import data_fetcher\n",
    "import json"
   ]
  },
  {
   "cell_type": "code",
   "execution_count": 2,
   "metadata": {},
   "outputs": [
    {
     "data": {
      "text/plain": [
       "['',\n",
       " 'C:\\\\Users\\\\biocl\\\\Desktop\\\\Beauclair\\\\USB DISK\\\\Master\\\\FH_DO\\\\PyDev\\\\MamphiAdministration\\\\app\\\\fetcher',\n",
       " 'C:\\\\Users\\\\biocl\\\\Desktop\\\\Beauclair\\\\USB DISK\\\\Master\\\\FH_DO\\\\PyDev\\\\MamphiAdministration\\\\mamphi-admin\\\\admin',\n",
       " 'C:\\\\Users\\\\biocl\\\\Anaconda3\\\\envs\\\\ai\\\\python36.zip',\n",
       " 'C:\\\\Users\\\\biocl\\\\Anaconda3\\\\envs\\\\ai\\\\DLLs',\n",
       " 'C:\\\\Users\\\\biocl\\\\Anaconda3\\\\envs\\\\ai\\\\lib',\n",
       " 'C:\\\\Users\\\\biocl\\\\Anaconda3\\\\envs\\\\ai',\n",
       " 'C:\\\\Users\\\\biocl\\\\AppData\\\\Roaming\\\\Python\\\\Python36\\\\site-packages',\n",
       " 'C:\\\\Users\\\\biocl\\\\Anaconda3\\\\envs\\\\ai\\\\lib\\\\site-packages',\n",
       " 'C:\\\\Users\\\\biocl\\\\Anaconda3\\\\envs\\\\ai\\\\lib\\\\site-packages\\\\cycler-0.10.0-py3.6.egg',\n",
       " 'C:\\\\Users\\\\biocl\\\\Anaconda3\\\\envs\\\\ai\\\\lib\\\\site-packages\\\\IPython\\\\extensions',\n",
       " 'C:\\\\Users\\\\biocl\\\\.ipython']"
      ]
     },
     "execution_count": 2,
     "metadata": {},
     "output_type": "execute_result"
    }
   ],
   "source": [
    "sys.path"
   ]
  },
  {
   "cell_type": "code",
   "execution_count": 3,
   "metadata": {},
   "outputs": [],
   "source": [
    "fetcher = data_fetcher.MamphiDataFetcher('app/mamphi.db')\n",
    "results = fetcher.fetch_consent()\n",
    "consents = json.loads(results)"
   ]
  },
  {
   "cell_type": "code",
   "execution_count": 4,
   "metadata": {},
   "outputs": [
    {
     "name": "stdout",
     "output_type": "stream",
     "text": [
      "[{'Patient_Id': 1000, 'Zentrum': 102, 'Einwilligung': 'nein', 'Datum': '2019-05-10 00:00:00'}, {'Patient_Id': 1001, 'Zentrum': 201, 'Einwilligung': 'ja', 'Datum': '2019-05-11 00:00:00'}, {'Patient_Id': 1002, 'Zentrum': 202, 'Einwilligung': 'ja', 'Datum': '2019-05-12 00:00:00'}, {'Patient_Id': 1003, 'Zentrum': 101, 'Einwilligung': 'ja', 'Datum': '2019-05-13 00:00:00'}, {'Patient_Id': 1004, 'Zentrum': 102, 'Einwilligung': 'ja', 'Datum': '2019-05-13 00:00:00'}, {'Patient_Id': 1005, 'Zentrum': 104, 'Einwilligung': 'ja', 'Datum': '2019-05-13 00:00:00'}, {'Patient_Id': 1006, 'Zentrum': 103, 'Einwilligung': 'ja', 'Datum': '2019-05-13 00:00:00'}, {'Patient_Id': 1007, 'Zentrum': 105, 'Einwilligung': 'ja', 'Datum': 'NaT'}, {'Patient_Id': 1008, 'Zentrum': 106, 'Einwilligung': 'ja', 'Datum': '2019-05-13 00:00:00'}, {'Patient_Id': 1009, 'Zentrum': 108, 'Einwilligung': 'ja', 'Datum': '2019-05-14 00:00:00'}, {'Patient_Id': 1010, 'Zentrum': 203, 'Einwilligung': 'ja', 'Datum': '2019-05-14 00:00:00'}, {'Patient_Id': 1011, 'Zentrum': 204, 'Einwilligung': 'ja', 'Datum': '2019-05-14 00:00:00'}, {'Patient_Id': 1012, 'Zentrum': 205, 'Einwilligung': 'ja', 'Datum': '2019-06-14 00:00:00'}, {'Patient_Id': 1013, 'Zentrum': 109, 'Einwilligung': 'nan', 'Datum': '2019-05-14 00:00:00'}, {'Patient_Id': 1014, 'Zentrum': 110, 'Einwilligung': 'ja', 'Datum': '2019-05-14 00:00:00'}, {'Patient_Id': 1016, 'Zentrum': 201, 'Einwilligung': 'ja', 'Datum': '2019-05-14 00:00:00'}, {'Patient_Id': 1017, 'Zentrum': 201, 'Einwilligung': 'ja', 'Datum': '2019-05-14 00:00:00'}, {'Patient_Id': 1018, 'Zentrum': 203, 'Einwilligung': 'ja', 'Datum': '2019-05-14 00:00:00'}, {'Patient_Id': 1019, 'Zentrum': 104, 'Einwilligung': 'ja', 'Datum': '2019-05-14 00:00:00'}, {'Patient_Id': 1020, 'Zentrum': 104, 'Einwilligung': 'ja', 'Datum': '1900-01-14 00:00:00'}, {'Patient_Id': 1021, 'Zentrum': 103, 'Einwilligung': 'ja', 'Datum': '2019-05-15 00:00:00'}, {'Patient_Id': 1022, 'Zentrum': 110, 'Einwilligung': 'ja', 'Datum': '2019-05-16 00:00:00'}, {'Patient_Id': 1023, 'Zentrum': 108, 'Einwilligung': 'ja', 'Datum': '2019-05-16 00:00:00'}, {'Patient_Id': 1024, 'Zentrum': 101, 'Einwilligung': 'ja', 'Datum': '2019-05-16 00:00:00'}, {'Patient_Id': 1025, 'Zentrum': 102, 'Einwilligung': 'ja', 'Datum': '2091-05-15 00:00:00'}, {'Patient_Id': 1026, 'Zentrum': 105, 'Einwilligung': 'ja', 'Datum': '2019-05-16 00:00:00'}, {'Patient_Id': 1027, 'Zentrum': 106, 'Einwilligung': 'nan', 'Datum': 'NaT'}, {'Patient_Id': 1028, 'Zentrum': 106, 'Einwilligung': 'ja', 'Datum': '2019-05-16 00:00:00'}, {'Patient_Id': 1029, 'Zentrum': 204, 'Einwilligung': 'ja', 'Datum': '2019-05-16 00:00:00'}, {'Patient_Id': 1030, 'Zentrum': 207, 'Einwilligung': 'ja', 'Datum': '2019-05-16 00:00:00'}]\n"
     ]
    }
   ],
   "source": [
    "print(consents)"
   ]
  },
  {
   "cell_type": "code",
   "execution_count": 5,
   "metadata": {},
   "outputs": [
    {
     "name": "stdout",
     "output_type": "stream",
     "text": [
      "{'Patient_Id': 1000, 'Zentrum': 102, 'Einwilligung': 'nein', 'Datum': '2019-05-10 00:00:00'}\n",
      "{'Patient_Id': 1001, 'Zentrum': 201, 'Einwilligung': 'ja', 'Datum': '2019-05-11 00:00:00'}\n",
      "{'Patient_Id': 1002, 'Zentrum': 202, 'Einwilligung': 'ja', 'Datum': '2019-05-12 00:00:00'}\n",
      "{'Patient_Id': 1003, 'Zentrum': 101, 'Einwilligung': 'ja', 'Datum': '2019-05-13 00:00:00'}\n",
      "{'Patient_Id': 1004, 'Zentrum': 102, 'Einwilligung': 'ja', 'Datum': '2019-05-13 00:00:00'}\n",
      "{'Patient_Id': 1005, 'Zentrum': 104, 'Einwilligung': 'ja', 'Datum': '2019-05-13 00:00:00'}\n",
      "{'Patient_Id': 1006, 'Zentrum': 103, 'Einwilligung': 'ja', 'Datum': '2019-05-13 00:00:00'}\n",
      "{'Patient_Id': 1007, 'Zentrum': 105, 'Einwilligung': 'ja', 'Datum': 'NaT'}\n",
      "{'Patient_Id': 1008, 'Zentrum': 106, 'Einwilligung': 'ja', 'Datum': '2019-05-13 00:00:00'}\n",
      "{'Patient_Id': 1009, 'Zentrum': 108, 'Einwilligung': 'ja', 'Datum': '2019-05-14 00:00:00'}\n",
      "{'Patient_Id': 1010, 'Zentrum': 203, 'Einwilligung': 'ja', 'Datum': '2019-05-14 00:00:00'}\n",
      "{'Patient_Id': 1011, 'Zentrum': 204, 'Einwilligung': 'ja', 'Datum': '2019-05-14 00:00:00'}\n",
      "{'Patient_Id': 1012, 'Zentrum': 205, 'Einwilligung': 'ja', 'Datum': '2019-06-14 00:00:00'}\n",
      "{'Patient_Id': 1013, 'Zentrum': 109, 'Einwilligung': 'nan', 'Datum': '2019-05-14 00:00:00'}\n",
      "{'Patient_Id': 1014, 'Zentrum': 110, 'Einwilligung': 'ja', 'Datum': '2019-05-14 00:00:00'}\n",
      "{'Patient_Id': 1016, 'Zentrum': 201, 'Einwilligung': 'ja', 'Datum': '2019-05-14 00:00:00'}\n",
      "{'Patient_Id': 1017, 'Zentrum': 201, 'Einwilligung': 'ja', 'Datum': '2019-05-14 00:00:00'}\n",
      "{'Patient_Id': 1018, 'Zentrum': 203, 'Einwilligung': 'ja', 'Datum': '2019-05-14 00:00:00'}\n",
      "{'Patient_Id': 1019, 'Zentrum': 104, 'Einwilligung': 'ja', 'Datum': '2019-05-14 00:00:00'}\n",
      "{'Patient_Id': 1020, 'Zentrum': 104, 'Einwilligung': 'ja', 'Datum': '1900-01-14 00:00:00'}\n",
      "{'Patient_Id': 1021, 'Zentrum': 103, 'Einwilligung': 'ja', 'Datum': '2019-05-15 00:00:00'}\n",
      "{'Patient_Id': 1022, 'Zentrum': 110, 'Einwilligung': 'ja', 'Datum': '2019-05-16 00:00:00'}\n",
      "{'Patient_Id': 1023, 'Zentrum': 108, 'Einwilligung': 'ja', 'Datum': '2019-05-16 00:00:00'}\n",
      "{'Patient_Id': 1024, 'Zentrum': 101, 'Einwilligung': 'ja', 'Datum': '2019-05-16 00:00:00'}\n",
      "{'Patient_Id': 1025, 'Zentrum': 102, 'Einwilligung': 'ja', 'Datum': '2091-05-15 00:00:00'}\n",
      "{'Patient_Id': 1026, 'Zentrum': 105, 'Einwilligung': 'ja', 'Datum': '2019-05-16 00:00:00'}\n",
      "{'Patient_Id': 1027, 'Zentrum': 106, 'Einwilligung': 'nan', 'Datum': 'NaT'}\n",
      "{'Patient_Id': 1028, 'Zentrum': 106, 'Einwilligung': 'ja', 'Datum': '2019-05-16 00:00:00'}\n",
      "{'Patient_Id': 1029, 'Zentrum': 204, 'Einwilligung': 'ja', 'Datum': '2019-05-16 00:00:00'}\n",
      "{'Patient_Id': 1030, 'Zentrum': 207, 'Einwilligung': 'ja', 'Datum': '2019-05-16 00:00:00'}\n"
     ]
    }
   ],
   "source": [
    "for consent in consents:\n",
    "    print(consent)"
   ]
  },
  {
   "cell_type": "code",
   "execution_count": 8,
   "metadata": {},
   "outputs": [
    {
     "name": "stdout",
     "output_type": "stream",
     "text": [
      " Datenträger in Laufwerk C: ist Acer\n",
      " Volumeseriennummer: F834-7794\n",
      "\n",
      " Verzeichnis von C:\\Users\\biocl\\Desktop\\Beauclair\\USB DISK\\Master\\FH_DO\\PyDev\\MamphiAdministration\n",
      "\n",
      "03.03.2020  22:29    <DIR>          .\n",
      "03.03.2020  22:29    <DIR>          ..\n",
      "03.03.2020  21:00    <DIR>          .idea\n",
      "02.03.2020  18:44    <DIR>          .ipynb_checkpoints\n",
      "02.03.2020  19:14    <DIR>          app\n",
      "02.03.2020  13:03    <DIR>          data\n",
      "02.03.2020  17:40    <DIR>          mamphi-admin\n",
      "02.03.2020  14:17    <DIR>          mamphi-api\n",
      "03.03.2020  22:11    <DIR>          mamphi-spa\n",
      "03.03.2020  22:29             8.837 Untitled.ipynb\n",
      "               1 Datei(en),          8.837 Bytes\n",
      "               9 Verzeichnis(se), 525.834.084.352 Bytes frei\n"
     ]
    }
   ],
   "source": [
    "!dir"
   ]
  },
  {
   "cell_type": "code",
   "execution_count": 9,
   "metadata": {},
   "outputs": [],
   "source": [
    "!cd app"
   ]
  },
  {
   "cell_type": "code",
   "execution_count": null,
   "metadata": {},
   "outputs": [
    {
     "name": "stdout",
     "output_type": "stream",
     "text": [
      " * Serving Flask app \"main\" (lazy loading)\n",
      " * Environment: production\n",
      "   WARNING: Do not use the development server in a production environment.\n",
      "   Use a production WSGI server instead.\n",
      " * Debug mode: on\n"
     ]
    }
   ],
   "source": [
    "%run app/main.py"
   ]
  },
  {
   "cell_type": "code",
   "execution_count": null,
   "metadata": {},
   "outputs": [],
   "source": []
  }
 ],
 "metadata": {
  "kernelspec": {
   "display_name": "Python 3",
   "language": "python",
   "name": "python3"
  },
  "language_info": {
   "codemirror_mode": {
    "name": "ipython",
    "version": 3
   },
   "file_extension": ".py",
   "mimetype": "text/x-python",
   "name": "python",
   "nbconvert_exporter": "python",
   "pygments_lexer": "ipython3",
   "version": "3.6.5"
  }
 },
 "nbformat": 4,
 "nbformat_minor": 2
}
